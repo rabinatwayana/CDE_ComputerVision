{
 "cells": [
  {
   "cell_type": "code",
   "execution_count": null,
   "metadata": {},
   "outputs": [],
   "source": [
    "import torch\n",
    "import torch.nn as nn\n",
    "from einops import repeat, rearrange\n",
    "import numpy as np\n",
    "\n",
    "\n",
    "# Exercise 6.1\n",
    "class Encoder(nn.Module):\n",
    "    def __init__(self, \n",
    "        in_channels: int = 3, \n",
    "        patch_size: int = 16, \n",
    "        emb_size: int = 768):\n",
    "        \n",
    "        super().__init__()\n",
    "        \n",
    "        self.conv_layer = # <--- YOUR CODE HERE --->\n",
    "        \n",
    "        \n",
    "        # Uncomment and complete the line in case you solve Step 2\n",
    "        #self.token = # <--- YOUR CODE HERE --->\n",
    "\n",
    "    def forward(self, x: torch.Tensor) -> torch.Tensor:\n",
    "        # <--- YOUR CODE HERE --->\n",
    "       \n",
    "       \n",
    "        \"\"\"\n",
    "        Return the output \n",
    "            (1) AFTER convolution + reshaping, and \n",
    "            (2) AFTER concatenating the token to the reshaped output\n",
    "            \n",
    "        For instance:\n",
    "        \n",
    "        return out0, out1\n",
    "        \n",
    "        or \n",
    "        \n",
    "        return out0, None\n",
    "        \"\"\"\n",
    "        pass"
   ]
  }
 ],
 "metadata": {
  "kernelspec": {
   "display_name": "ps_cv_env",
   "language": "python",
   "name": "python3"
  },
  "language_info": {
   "name": "python",
   "version": "3.10.14"
  }
 },
 "nbformat": 4,
 "nbformat_minor": 2
}
